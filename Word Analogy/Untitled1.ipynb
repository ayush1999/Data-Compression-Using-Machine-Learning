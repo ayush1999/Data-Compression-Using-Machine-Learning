{
 "cells": [
  {
   "cell_type": "code",
   "execution_count": 1,
   "metadata": {
    "collapsed": true
   },
   "outputs": [],
   "source": [
    "import numpy as np\n",
    "from gensim.models import Word2Vec"
   ]
  },
  {
   "cell_type": "code",
   "execution_count": 3,
   "metadata": {},
   "outputs": [],
   "source": [
    "sentences = [['I', \"am\", 'a', 'good', 'boy'], ['I', 'love', 'computers'], ['He', 'always', 'beats', 'me']]"
   ]
  },
  {
   "cell_type": "code",
   "execution_count": 5,
   "metadata": {},
   "outputs": [],
   "source": [
    "model = Word2Vec(sentences, size=100, window=3, min_count=2, workers = 2)"
   ]
  },
  {
   "cell_type": "code",
   "execution_count": 6,
   "metadata": {
    "collapsed": true
   },
   "outputs": [],
   "source": [
    "vectors = model.wv"
   ]
  },
  {
   "cell_type": "code",
   "execution_count": 7,
   "metadata": {},
   "outputs": [
    {
     "data": {
      "text/plain": [
       "array([ -3.26972245e-03,   1.63180323e-03,   2.99758604e-03,\n",
       "         3.54399742e-03,  -1.17950805e-03,  -2.77631800e-03,\n",
       "        -4.75316867e-03,  -1.05255400e-03,   4.27273277e-04,\n",
       "        -2.16839183e-03,   4.29173652e-03,   2.64746300e-03,\n",
       "         4.34544543e-03,  -4.88661462e-03,   1.02520885e-03,\n",
       "        -3.57309706e-03,   2.27154978e-03,   8.11414910e-04,\n",
       "        -2.72173729e-05,   1.56911369e-03,  -2.03635034e-04,\n",
       "         7.23485544e-04,   1.50195498e-03,   1.11912470e-03,\n",
       "         3.35424673e-03,  -2.92688468e-03,   8.32931313e-04,\n",
       "        -2.16775457e-03,  -2.53773737e-03,  -4.25149174e-03,\n",
       "        -3.71939852e-03,  -1.17600488e-03,  -4.37214645e-03,\n",
       "         4.17534448e-03,   1.33517303e-03,  -2.23790109e-03,\n",
       "        -4.81039239e-03,  -3.97697929e-03,   2.66941817e-04,\n",
       "         2.42577773e-03,   4.05947119e-03,   1.12382462e-03,\n",
       "        -4.00525576e-04,  -3.86238494e-03,  -9.06486996e-04,\n",
       "        -2.04355433e-03,   2.92511703e-03,  -1.95174117e-03,\n",
       "        -1.85672974e-03,  -7.37902083e-05,  -4.19213530e-03,\n",
       "        -3.15547036e-03,  -4.24558856e-03,  -3.34055093e-03,\n",
       "        -1.28866639e-03,  -5.44675626e-04,   2.56994879e-03,\n",
       "        -1.79599389e-03,  -2.02449108e-03,   1.38843735e-03,\n",
       "         4.13008593e-03,  -3.54615413e-03,  -1.25464168e-03,\n",
       "         3.56790231e-04,   3.57915740e-03,   2.02269154e-03,\n",
       "         4.86216275e-03,   8.46318610e-04,  -4.74785425e-04,\n",
       "        -6.20761421e-04,   3.51182558e-03,  -3.55211576e-03,\n",
       "         1.53319922e-03,   2.92838871e-04,  -2.89915456e-03,\n",
       "        -2.11675814e-03,  -3.89022822e-03,   3.60775623e-03,\n",
       "         3.58695327e-03,   2.37309281e-03,  -3.59637872e-03,\n",
       "         3.63331358e-03,  -4.16939054e-03,  -2.71752686e-03,\n",
       "         3.88325960e-03,  -5.61237066e-05,  -3.34205898e-03,\n",
       "         6.55850919e-04,   6.26402500e-04,  -4.88642650e-03,\n",
       "        -3.67791392e-03,   3.91627802e-03,  -2.08535348e-04,\n",
       "        -8.94764147e-04,  -3.27732367e-03,  -3.62270599e-04,\n",
       "         1.85354101e-03,   2.53986707e-03,  -2.09296355e-03,\n",
       "         2.46280758e-03], dtype=float32)"
      ]
     },
     "execution_count": 7,
     "metadata": {},
     "output_type": "execute_result"
    }
   ],
   "source": [
    "vectors['I']"
   ]
  },
  {
   "cell_type": "code",
   "execution_count": 9,
   "metadata": {},
   "outputs": [
    {
     "data": {
      "text/plain": [
       "100"
      ]
     },
     "execution_count": 9,
     "metadata": {},
     "output_type": "execute_result"
    }
   ],
   "source": [
    "len(vectors['I'])"
   ]
  },
  {
   "cell_type": "code",
   "execution_count": 10,
   "metadata": {},
   "outputs": [
    {
     "ename": "KeyError",
     "evalue": "\"word 'lol' not in vocabulary\"",
     "output_type": "error",
     "traceback": [
      "\u001b[0;31m---------------------------------------------------------------------------\u001b[0m",
      "\u001b[0;31mKeyError\u001b[0m                                  Traceback (most recent call last)",
      "\u001b[0;32m<ipython-input-10-4c0b3a326e20>\u001b[0m in \u001b[0;36m<module>\u001b[0;34m()\u001b[0m\n\u001b[0;32m----> 1\u001b[0;31m \u001b[0mvectors\u001b[0m\u001b[0;34m[\u001b[0m\u001b[0;34m'lol'\u001b[0m\u001b[0;34m]\u001b[0m\u001b[0;34m\u001b[0m\u001b[0m\n\u001b[0m",
      "\u001b[0;32m/home/ayush99/anaconda3/lib/python3.6/site-packages/gensim/models/keyedvectors.py\u001b[0m in \u001b[0;36m__getitem__\u001b[0;34m(self, words)\u001b[0m\n\u001b[1;32m    324\u001b[0m         \u001b[0;32mif\u001b[0m \u001b[0misinstance\u001b[0m\u001b[0;34m(\u001b[0m\u001b[0mwords\u001b[0m\u001b[0;34m,\u001b[0m \u001b[0mstring_types\u001b[0m\u001b[0;34m)\u001b[0m\u001b[0;34m:\u001b[0m\u001b[0;34m\u001b[0m\u001b[0m\n\u001b[1;32m    325\u001b[0m             \u001b[0;31m# allow calls like trained_model['office'], as a shorthand for trained_model[['office']]\u001b[0m\u001b[0;34m\u001b[0m\u001b[0;34m\u001b[0m\u001b[0m\n\u001b[0;32m--> 326\u001b[0;31m             \u001b[0;32mreturn\u001b[0m \u001b[0mself\u001b[0m\u001b[0;34m.\u001b[0m\u001b[0mword_vec\u001b[0m\u001b[0;34m(\u001b[0m\u001b[0mwords\u001b[0m\u001b[0;34m)\u001b[0m\u001b[0;34m\u001b[0m\u001b[0m\n\u001b[0m\u001b[1;32m    327\u001b[0m \u001b[0;34m\u001b[0m\u001b[0m\n\u001b[1;32m    328\u001b[0m         \u001b[0;32mreturn\u001b[0m \u001b[0mvstack\u001b[0m\u001b[0;34m(\u001b[0m\u001b[0;34m[\u001b[0m\u001b[0mself\u001b[0m\u001b[0;34m.\u001b[0m\u001b[0mword_vec\u001b[0m\u001b[0;34m(\u001b[0m\u001b[0mword\u001b[0m\u001b[0;34m)\u001b[0m \u001b[0;32mfor\u001b[0m \u001b[0mword\u001b[0m \u001b[0;32min\u001b[0m \u001b[0mwords\u001b[0m\u001b[0;34m]\u001b[0m\u001b[0;34m)\u001b[0m\u001b[0;34m\u001b[0m\u001b[0m\n",
      "\u001b[0;32m/home/ayush99/anaconda3/lib/python3.6/site-packages/gensim/models/keyedvectors.py\u001b[0m in \u001b[0;36mword_vec\u001b[0;34m(self, word, use_norm)\u001b[0m\n\u001b[1;32m    451\u001b[0m             \u001b[0;32mreturn\u001b[0m \u001b[0mresult\u001b[0m\u001b[0;34m\u001b[0m\u001b[0m\n\u001b[1;32m    452\u001b[0m         \u001b[0;32melse\u001b[0m\u001b[0;34m:\u001b[0m\u001b[0;34m\u001b[0m\u001b[0m\n\u001b[0;32m--> 453\u001b[0;31m             \u001b[0;32mraise\u001b[0m \u001b[0mKeyError\u001b[0m\u001b[0;34m(\u001b[0m\u001b[0;34m\"word '%s' not in vocabulary\"\u001b[0m \u001b[0;34m%\u001b[0m \u001b[0mword\u001b[0m\u001b[0;34m)\u001b[0m\u001b[0;34m\u001b[0m\u001b[0m\n\u001b[0m\u001b[1;32m    454\u001b[0m \u001b[0;34m\u001b[0m\u001b[0m\n\u001b[1;32m    455\u001b[0m     \u001b[0;32mdef\u001b[0m \u001b[0mmost_similar\u001b[0m\u001b[0;34m(\u001b[0m\u001b[0mself\u001b[0m\u001b[0;34m,\u001b[0m \u001b[0mpositive\u001b[0m\u001b[0;34m=\u001b[0m\u001b[0;32mNone\u001b[0m\u001b[0;34m,\u001b[0m \u001b[0mnegative\u001b[0m\u001b[0;34m=\u001b[0m\u001b[0;32mNone\u001b[0m\u001b[0;34m,\u001b[0m \u001b[0mtopn\u001b[0m\u001b[0;34m=\u001b[0m\u001b[0;36m10\u001b[0m\u001b[0;34m,\u001b[0m \u001b[0mrestrict_vocab\u001b[0m\u001b[0;34m=\u001b[0m\u001b[0;32mNone\u001b[0m\u001b[0;34m,\u001b[0m \u001b[0mindexer\u001b[0m\u001b[0;34m=\u001b[0m\u001b[0;32mNone\u001b[0m\u001b[0;34m)\u001b[0m\u001b[0;34m:\u001b[0m\u001b[0;34m\u001b[0m\u001b[0m\n",
      "\u001b[0;31mKeyError\u001b[0m: \"word 'lol' not in vocabulary\""
     ]
    }
   ],
   "source": [
    "vectors['lol']"
   ]
  },
  {
   "cell_type": "code",
   "execution_count": null,
   "metadata": {
    "collapsed": true
   },
   "outputs": [],
   "source": []
  }
 ],
 "metadata": {
  "kernelspec": {
   "display_name": "Python 3",
   "language": "python",
   "name": "python3"
  },
  "language_info": {
   "codemirror_mode": {
    "name": "ipython",
    "version": 3
   },
   "file_extension": ".py",
   "mimetype": "text/x-python",
   "name": "python",
   "nbconvert_exporter": "python",
   "pygments_lexer": "ipython3",
   "version": "3.6.1"
  }
 },
 "nbformat": 4,
 "nbformat_minor": 2
}
